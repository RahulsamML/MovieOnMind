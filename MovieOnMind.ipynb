{
 "cells": [
  {
   "cell_type": "markdown",
   "metadata": {
    "id": "k2UksFGqpZbF"
   },
   "source": []
  },
  {
   "cell_type": "code",
   "execution_count": 256,
   "metadata": {
    "id": "SDSV_o6g9fmy"
   },
   "outputs": [],
   "source": [
    "import pandas as pd\n",
    "import numpy as np"
   ]
  },
  {
   "cell_type": "code",
   "execution_count": 286,
   "metadata": {
    "id": "k1UJOF_6Rq1g"
   },
   "outputs": [],
   "source": [
    "\n",
    "def datamaker(link,start,end,cl):\n",
    "    data=pd.DataFrame()\n",
    "    link=link[:-4]\n",
    "    w=[]\n",
    "    for j in range(start,end+1):\n",
    "        link1=link+str(j)\n",
    "        dataset=pd.read_html(link1, header=0,attrs = {'class':cl})\n",
    "        try:\n",
    "            das=pd.read_html(link1, header=0,attrs = {'class':\"wikitable sortable\"})\n",
    "            dataset.append(das)\n",
    "        except:\n",
    "            pass\n",
    "        b=pd.DataFrame()\n",
    "        for i in range(len(dataset)):\n",
    "            a=pd.DataFrame(dataset[i])\n",
    "            if len(pd.DataFrame.count(a,axis=0)):\n",
    "                b=b.append(a,ignore_index=True)\n",
    "        b['year']=[str(j)]*b.shape[0]\n",
    "        w.append([j,b.shape[0]])\n",
    "        data=data.append(b,ignore_index=True)\n",
    "    print(w)\n",
    "    return data"
   ]
  },
  {
   "cell_type": "code",
   "execution_count": 287,
   "metadata": {
    "colab": {
     "base_uri": "https://localhost:8080/",
     "height": 71
    },
    "id": "BQk186dYSrcv",
    "outputId": "bfd2fa0f-bef7-4684-b683-a03de29d779c"
   },
   "outputs": [
    {
     "name": "stdout",
     "output_type": "stream",
     "text": [
      "[[1920, 21], [1921, 38], [1922, 59], [1923, 47], [1924, 68], [1925, 80], [1926, 87], [1927, 93], [1928, 111], [1929, 143], [1930, 110], [1931, 83], [1932, 63], [1933, 70], [1934, 118], [1935, 145], [1936, 130], [1937, 97], [1938, 86], [1939, 78], [1940, 85], [1941, 76], [1942, 96], [1943, 98], [1944, 84], [1945, 71], [1946, 159], [1947, 169], [1948, 143], [1949, 127], [1950, 103], [1951, 100], [1952, 103], [1953, 98], [1954, 125], [1955, 14], [1956, 117], [1957, 116], [1958, 113], [1959, 114], [1960, 112], [1961, 95], [1962, 97], [1963, 90], [1964, 16], [1965, 73], [1966, 68], [1967, 12], [1968, 85], [1969, 93], [1970, 28], [1971, 85], [1972, 97], [1973, 74], [1974, 91], [1975, 80], [1976, 71], [1977, 104], [1978, 58], [1979, 85], [1980, 110], [1981, 101], [1982, 128], [1983, 102], [1984, 129], [1985, 127], [1986, 127], [1987, 106], [1988, 133], [1989, 87], [1990, 115], [1991, 114], [1992, 94], [1993, 118], [1994, 117], [1995, 132], [1996, 105], [1997, 77], [1998, 83], [1999, 94], [2000, 94], [2001, 73], [2002, 84], [2003, 140], [2004, 98], [2005, 125], [2006, 117], [2007, 117], [2008, 96], [2009, 88], [2010, 138], [2011, 118], [2012, 15], [2013, 14], [2014, 156], [2015, 124], [2016, 129], [2017, 123], [2018, 104], [2019, 127], [2020, 80]]\n"
     ]
    },
    {
     "data": {
      "text/plain": [
       "(9711, 51)"
      ]
     },
     "execution_count": 287,
     "metadata": {
      "tags": []
     },
     "output_type": "execute_result"
    }
   ],
   "source": [
    "link='https://en.wikipedia.org/wiki/List_of_Bollywood_films_of_2018'\n",
    "start,end=1920,2020\n",
    "moviedataset=pd.DataFrame()\n",
    "moviedataset=moviedataset.append(datamaker(link,start,end,\"wikitable\"),ignore_index=True)\n",
    "moviedataset.shape\n"
   ]
  },
  {
   "cell_type": "code",
   "execution_count": 247,
   "metadata": {
    "colab": {
     "base_uri": "https://localhost:8080/",
     "height": 802
    },
    "id": "7ThEh-vfa8TQ",
    "outputId": "ecc97927-3291-4b42-b7da-4822aa9c9cfe"
   },
   "outputs": [
    {
     "data": {
      "text/html": [
       "<div>\n",
       "<style scoped>\n",
       "    .dataframe tbody tr th:only-of-type {\n",
       "        vertical-align: middle;\n",
       "    }\n",
       "\n",
       "    .dataframe tbody tr th {\n",
       "        vertical-align: top;\n",
       "    }\n",
       "\n",
       "    .dataframe thead th {\n",
       "        text-align: right;\n",
       "    }\n",
       "</style>\n",
       "<table border=\"1\" class=\"dataframe\">\n",
       "  <thead>\n",
       "    <tr style=\"text-align: right;\">\n",
       "      <th></th>\n",
       "      <th>Title</th>\n",
       "      <th>Director</th>\n",
       "      <th>Cast</th>\n",
       "      <th>Genre</th>\n",
       "      <th>NotesCinematographer</th>\n",
       "      <th>year</th>\n",
       "      <th>Notes</th>\n",
       "      <th>0</th>\n",
       "      <th>Titlesindoor</th>\n",
       "      <th>Notes/Music</th>\n",
       "      <th>Rank</th>\n",
       "      <th>Music</th>\n",
       "      <th>1966rank</th>\n",
       "      <th>1967rank</th>\n",
       "      <th>1968rank</th>\n",
       "      <th>1969rank</th>\n",
       "      <th>1969Rank</th>\n",
       "      <th>Sources</th>\n",
       "      <th>Sources / notes</th>\n",
       "      <th>Unnamed: 5</th>\n",
       "      <th>Unnamed: 6</th>\n",
       "      <th>Unnamed: 7</th>\n",
       "      <th>Unnamed: 8</th>\n",
       "      <th>Unnamed: 9</th>\n",
       "      <th>sources</th>\n",
       "      <th>Source</th>\n",
       "      <th>Composer</th>\n",
       "      <th>Music director</th>\n",
       "      <th>Music Director</th>\n",
       "      <th>Gross</th>\n",
       "      <th>No.</th>\n",
       "      <th>Opening</th>\n",
       "      <th>Opening.1</th>\n",
       "      <th>Distributor</th>\n",
       "      <th>Worldwide gross</th>\n",
       "      <th>Domestic Collecion(India)</th>\n",
       "      <th>Producer</th>\n",
       "      <th>Production company</th>\n",
       "      <th>Gross[1]</th>\n",
       "      <th>Film</th>\n",
       "      <th>Worldwide Gross</th>\n",
       "      <th>Production Company</th>\n",
       "      <th>Rank No.</th>\n",
       "      <th>Ref</th>\n",
       "      <th>Movie</th>\n",
       "      <th>Ref.</th>\n",
       "      <th>Studio</th>\n",
       "      <th>Production house</th>\n",
       "      <th>#+</th>\n",
       "      <th>Implies that the film is multilingual and the gross collection figure includes the worldwide collection of the other simultaneously filmed version.</th>\n",
       "      <th>Studio (production house)</th>\n",
       "    </tr>\n",
       "  </thead>\n",
       "  <tbody>\n",
       "    <tr>\n",
       "      <th>0</th>\n",
       "      <td>Balika Badhu a.k.a. Baby Bride</td>\n",
       "      <td>P. T. Shaida (Tulsidutt Shaida)</td>\n",
       "      <td>Miss Ali, Tarak Bagcha, Pandit Tulsidutt Shaida</td>\n",
       "      <td>Social</td>\n",
       "      <td>Asiatic Film Corp., Calcutta</td>\n",
       "      <td>1920</td>\n",
       "      <td>NaN</td>\n",
       "      <td>NaN</td>\n",
       "      <td>NaN</td>\n",
       "      <td>NaN</td>\n",
       "      <td>NaN</td>\n",
       "      <td>NaN</td>\n",
       "      <td>NaN</td>\n",
       "      <td>NaN</td>\n",
       "      <td>NaN</td>\n",
       "      <td>NaN</td>\n",
       "      <td>NaN</td>\n",
       "      <td>NaN</td>\n",
       "      <td>NaN</td>\n",
       "      <td>NaN</td>\n",
       "      <td>NaN</td>\n",
       "      <td>NaN</td>\n",
       "      <td>NaN</td>\n",
       "      <td>NaN</td>\n",
       "      <td>NaN</td>\n",
       "      <td>NaN</td>\n",
       "      <td>NaN</td>\n",
       "      <td>NaN</td>\n",
       "      <td>NaN</td>\n",
       "      <td>NaN</td>\n",
       "      <td>NaN</td>\n",
       "      <td>NaN</td>\n",
       "      <td>NaN</td>\n",
       "      <td>NaN</td>\n",
       "      <td>NaN</td>\n",
       "      <td>NaN</td>\n",
       "      <td>NaN</td>\n",
       "      <td>NaN</td>\n",
       "      <td>NaN</td>\n",
       "      <td>NaN</td>\n",
       "      <td>NaN</td>\n",
       "      <td>NaN</td>\n",
       "      <td>NaN</td>\n",
       "      <td>NaN</td>\n",
       "      <td>NaN</td>\n",
       "      <td>NaN</td>\n",
       "      <td>NaN</td>\n",
       "      <td>NaN</td>\n",
       "      <td>NaN</td>\n",
       "      <td>NaN</td>\n",
       "      <td>NaN</td>\n",
       "    </tr>\n",
       "    <tr>\n",
       "      <th>1</th>\n",
       "      <td>Daksha Yagna a.k.a. Sati Parvati</td>\n",
       "      <td>Vishnupant Divekar</td>\n",
       "      <td>Khalil, Prabha, Vaidya</td>\n",
       "      <td>Mythology</td>\n",
       "      <td>Kohinoor Film CompanyDOP: A. P. Karandikar</td>\n",
       "      <td>1920</td>\n",
       "      <td>NaN</td>\n",
       "      <td>NaN</td>\n",
       "      <td>NaN</td>\n",
       "      <td>NaN</td>\n",
       "      <td>NaN</td>\n",
       "      <td>NaN</td>\n",
       "      <td>NaN</td>\n",
       "      <td>NaN</td>\n",
       "      <td>NaN</td>\n",
       "      <td>NaN</td>\n",
       "      <td>NaN</td>\n",
       "      <td>NaN</td>\n",
       "      <td>NaN</td>\n",
       "      <td>NaN</td>\n",
       "      <td>NaN</td>\n",
       "      <td>NaN</td>\n",
       "      <td>NaN</td>\n",
       "      <td>NaN</td>\n",
       "      <td>NaN</td>\n",
       "      <td>NaN</td>\n",
       "      <td>NaN</td>\n",
       "      <td>NaN</td>\n",
       "      <td>NaN</td>\n",
       "      <td>NaN</td>\n",
       "      <td>NaN</td>\n",
       "      <td>NaN</td>\n",
       "      <td>NaN</td>\n",
       "      <td>NaN</td>\n",
       "      <td>NaN</td>\n",
       "      <td>NaN</td>\n",
       "      <td>NaN</td>\n",
       "      <td>NaN</td>\n",
       "      <td>NaN</td>\n",
       "      <td>NaN</td>\n",
       "      <td>NaN</td>\n",
       "      <td>NaN</td>\n",
       "      <td>NaN</td>\n",
       "      <td>NaN</td>\n",
       "      <td>NaN</td>\n",
       "      <td>NaN</td>\n",
       "      <td>NaN</td>\n",
       "      <td>NaN</td>\n",
       "      <td>NaN</td>\n",
       "      <td>NaN</td>\n",
       "      <td>NaN</td>\n",
       "    </tr>\n",
       "    <tr>\n",
       "      <th>2</th>\n",
       "      <td>Jalandhar Vrinda a.k.a. Sati Tulsi Vrinda</td>\n",
       "      <td>G. V. Sane</td>\n",
       "      <td>NaN</td>\n",
       "      <td>Mythology</td>\n",
       "      <td>Hindustan Cinema Film Co., Nasik</td>\n",
       "      <td>1920</td>\n",
       "      <td>NaN</td>\n",
       "      <td>NaN</td>\n",
       "      <td>NaN</td>\n",
       "      <td>NaN</td>\n",
       "      <td>NaN</td>\n",
       "      <td>NaN</td>\n",
       "      <td>NaN</td>\n",
       "      <td>NaN</td>\n",
       "      <td>NaN</td>\n",
       "      <td>NaN</td>\n",
       "      <td>NaN</td>\n",
       "      <td>NaN</td>\n",
       "      <td>NaN</td>\n",
       "      <td>NaN</td>\n",
       "      <td>NaN</td>\n",
       "      <td>NaN</td>\n",
       "      <td>NaN</td>\n",
       "      <td>NaN</td>\n",
       "      <td>NaN</td>\n",
       "      <td>NaN</td>\n",
       "      <td>NaN</td>\n",
       "      <td>NaN</td>\n",
       "      <td>NaN</td>\n",
       "      <td>NaN</td>\n",
       "      <td>NaN</td>\n",
       "      <td>NaN</td>\n",
       "      <td>NaN</td>\n",
       "      <td>NaN</td>\n",
       "      <td>NaN</td>\n",
       "      <td>NaN</td>\n",
       "      <td>NaN</td>\n",
       "      <td>NaN</td>\n",
       "      <td>NaN</td>\n",
       "      <td>NaN</td>\n",
       "      <td>NaN</td>\n",
       "      <td>NaN</td>\n",
       "      <td>NaN</td>\n",
       "      <td>NaN</td>\n",
       "      <td>NaN</td>\n",
       "      <td>NaN</td>\n",
       "      <td>NaN</td>\n",
       "      <td>NaN</td>\n",
       "      <td>NaN</td>\n",
       "      <td>NaN</td>\n",
       "      <td>NaN</td>\n",
       "    </tr>\n",
       "    <tr>\n",
       "      <th>3</th>\n",
       "      <td>Kansa Vadha a.k.a. End Of The Tyrant King</td>\n",
       "      <td>G. V. Sane</td>\n",
       "      <td>NaN</td>\n",
       "      <td>Mythology</td>\n",
       "      <td>Hindustan Cinema Film Co., Nasik.[15]</td>\n",
       "      <td>1920</td>\n",
       "      <td>NaN</td>\n",
       "      <td>NaN</td>\n",
       "      <td>NaN</td>\n",
       "      <td>NaN</td>\n",
       "      <td>NaN</td>\n",
       "      <td>NaN</td>\n",
       "      <td>NaN</td>\n",
       "      <td>NaN</td>\n",
       "      <td>NaN</td>\n",
       "      <td>NaN</td>\n",
       "      <td>NaN</td>\n",
       "      <td>NaN</td>\n",
       "      <td>NaN</td>\n",
       "      <td>NaN</td>\n",
       "      <td>NaN</td>\n",
       "      <td>NaN</td>\n",
       "      <td>NaN</td>\n",
       "      <td>NaN</td>\n",
       "      <td>NaN</td>\n",
       "      <td>NaN</td>\n",
       "      <td>NaN</td>\n",
       "      <td>NaN</td>\n",
       "      <td>NaN</td>\n",
       "      <td>NaN</td>\n",
       "      <td>NaN</td>\n",
       "      <td>NaN</td>\n",
       "      <td>NaN</td>\n",
       "      <td>NaN</td>\n",
       "      <td>NaN</td>\n",
       "      <td>NaN</td>\n",
       "      <td>NaN</td>\n",
       "      <td>NaN</td>\n",
       "      <td>NaN</td>\n",
       "      <td>NaN</td>\n",
       "      <td>NaN</td>\n",
       "      <td>NaN</td>\n",
       "      <td>NaN</td>\n",
       "      <td>NaN</td>\n",
       "      <td>NaN</td>\n",
       "      <td>NaN</td>\n",
       "      <td>NaN</td>\n",
       "      <td>NaN</td>\n",
       "      <td>NaN</td>\n",
       "      <td>NaN</td>\n",
       "      <td>NaN</td>\n",
       "    </tr>\n",
       "    <tr>\n",
       "      <th>4</th>\n",
       "      <td>Katorabhar Khoon a.k.a.The Stinger Stung a.k.a...</td>\n",
       "      <td>S. N. Patankar</td>\n",
       "      <td>Trymbakrao Pradhan, Tara Koregaonkar, Baba Vya...</td>\n",
       "      <td>Social</td>\n",
       "      <td>Patankar Friends And Co.DOP: S. N. Patankar</td>\n",
       "      <td>1920</td>\n",
       "      <td>NaN</td>\n",
       "      <td>NaN</td>\n",
       "      <td>NaN</td>\n",
       "      <td>NaN</td>\n",
       "      <td>NaN</td>\n",
       "      <td>NaN</td>\n",
       "      <td>NaN</td>\n",
       "      <td>NaN</td>\n",
       "      <td>NaN</td>\n",
       "      <td>NaN</td>\n",
       "      <td>NaN</td>\n",
       "      <td>NaN</td>\n",
       "      <td>NaN</td>\n",
       "      <td>NaN</td>\n",
       "      <td>NaN</td>\n",
       "      <td>NaN</td>\n",
       "      <td>NaN</td>\n",
       "      <td>NaN</td>\n",
       "      <td>NaN</td>\n",
       "      <td>NaN</td>\n",
       "      <td>NaN</td>\n",
       "      <td>NaN</td>\n",
       "      <td>NaN</td>\n",
       "      <td>NaN</td>\n",
       "      <td>NaN</td>\n",
       "      <td>NaN</td>\n",
       "      <td>NaN</td>\n",
       "      <td>NaN</td>\n",
       "      <td>NaN</td>\n",
       "      <td>NaN</td>\n",
       "      <td>NaN</td>\n",
       "      <td>NaN</td>\n",
       "      <td>NaN</td>\n",
       "      <td>NaN</td>\n",
       "      <td>NaN</td>\n",
       "      <td>NaN</td>\n",
       "      <td>NaN</td>\n",
       "      <td>NaN</td>\n",
       "      <td>NaN</td>\n",
       "      <td>NaN</td>\n",
       "      <td>NaN</td>\n",
       "      <td>NaN</td>\n",
       "      <td>NaN</td>\n",
       "      <td>NaN</td>\n",
       "      <td>NaN</td>\n",
       "    </tr>\n",
       "  </tbody>\n",
       "</table>\n",
       "</div>"
      ],
      "text/plain": [
       "                                               Title  ... Studio (production house)\n",
       "0                     Balika Badhu a.k.a. Baby Bride  ...                       NaN\n",
       "1                   Daksha Yagna a.k.a. Sati Parvati  ...                       NaN\n",
       "2          Jalandhar Vrinda a.k.a. Sati Tulsi Vrinda  ...                       NaN\n",
       "3          Kansa Vadha a.k.a. End Of The Tyrant King  ...                       NaN\n",
       "4  Katorabhar Khoon a.k.a.The Stinger Stung a.k.a...  ...                       NaN\n",
       "\n",
       "[5 rows x 51 columns]"
      ]
     },
     "execution_count": 247,
     "metadata": {
      "tags": []
     },
     "output_type": "execute_result"
    }
   ],
   "source": [
    "moviedataset.head()"
   ]
  },
  {
   "cell_type": "code",
   "execution_count": 248,
   "metadata": {
    "id": "5icj1Rt7hN4J"
   },
   "outputs": [],
   "source": [
    "data = moviedataset.loc[:,['Title', 'Director', 'Cast', 'Genre', 'year']]"
   ]
  },
  {
   "cell_type": "code",
   "execution_count": 249,
   "metadata": {
    "colab": {
     "base_uri": "https://localhost:8080/",
     "height": 119
    },
    "id": "nRYwvHvH36eJ",
    "outputId": "163d98ca-508a-4e07-844d-262ca4c41bd7"
   },
   "outputs": [
    {
     "data": {
      "text/plain": [
       "Title       9525\n",
       "Director    8306\n",
       "Cast        8872\n",
       "Genre       7185\n",
       "year        9711\n",
       "dtype: int64"
      ]
     },
     "execution_count": 249,
     "metadata": {
      "tags": []
     },
     "output_type": "execute_result"
    }
   ],
   "source": [
    "pd.DataFrame.count(data)"
   ]
  },
  {
   "cell_type": "code",
   "execution_count": 250,
   "metadata": {
    "colab": {
     "base_uri": "https://localhost:8080/",
     "height": 119
    },
    "id": "6D0m_i025gS_",
    "outputId": "fbf1b72d-fd39-4d13-aa6a-977844482394"
   },
   "outputs": [
    {
     "data": {
      "text/plain": [
       "Title        186\n",
       "Director    1405\n",
       "Cast         839\n",
       "Genre       2526\n",
       "year           0\n",
       "dtype: int64"
      ]
     },
     "execution_count": 250,
     "metadata": {
      "tags": []
     },
     "output_type": "execute_result"
    }
   ],
   "source": [
    "data.isnull().sum(axis = 0)"
   ]
  },
  {
   "cell_type": "code",
   "execution_count": 251,
   "metadata": {
    "colab": {
     "base_uri": "https://localhost:8080/",
     "height": 34
    },
    "id": "SjHSDBj9ae8c",
    "outputId": "3d761b3e-fa26-4cfd-a2cd-18e7d4148ff0"
   },
   "outputs": [
    {
     "data": {
      "text/plain": [
       "(9711, 5)"
      ]
     },
     "execution_count": 251,
     "metadata": {
      "tags": []
     },
     "output_type": "execute_result"
    }
   ],
   "source": [
    "data.shape"
   ]
  },
  {
   "cell_type": "code",
   "execution_count": 252,
   "metadata": {
    "colab": {
     "base_uri": "https://localhost:8080/",
     "height": 34
    },
    "id": "PRp7zGtThW3r",
    "outputId": "f6091b23-32be-4b00-af6f-c2e4333aece7"
   },
   "outputs": [
    {
     "data": {
      "text/plain": [
       "101"
      ]
     },
     "execution_count": 252,
     "metadata": {
      "tags": []
     },
     "output_type": "execute_result"
    }
   ],
   "source": [
    "data['year'].nunique()"
   ]
  },
  {
   "cell_type": "code",
   "execution_count": 288,
   "metadata": {
    "id": "RDzyJdQH7sAa"
   },
   "outputs": [],
   "source": [
    "data.to_csv('rawmoviefile.csv')"
   ]
  },
  {
   "cell_type": "code",
   "execution_count": 254,
   "metadata": {
    "colab": {
     "base_uri": "https://localhost:8080/",
     "height": 918
    },
    "id": "0XM-liMBdFHE",
    "outputId": "f4975d16-b59b-46a8-c5f8-ff2bd9b35039"
   },
   "outputs": [
    {
     "data": {
      "image/png": "[encoded data removed]",
      "text/plain": [
       "<Figure size 1080x1152 with 1 Axes>"
      ]
     },
     "metadata": {
      "needs_background": "light",
      "tags": []
     },
     "output_type": "display_data"
    }
   ],
   "source": [
    "import matplotlib.pyplot as plt\n",
    "moviedataset.year.value_counts(dropna=False).sort_index().plot(kind='barh',figsize=(15,16))\n",
    "plt.show()"
   ]
  }
 ],
 "metadata": {
  "colab": {
   "collapsed_sections": [],
   "name": "MovieOnMind.ipynb",
   "provenance": []
  },
  "kernelspec": {
   "display_name": "Python 3",
   "language": "python",
   "name": "python3"
  },
  "language_info": {
   "codemirror_mode": {
    "name": "ipython",
    "version": 3
   },
   "file_extension": ".py",
   "mimetype": "text/x-python",
   "name": "python",
   "nbconvert_exporter": "python",
   "pygments_lexer": "ipython3",
   "version": "3.7.3"
  }
 },
 "nbformat": 4,
 "nbformat_minor": 1
}
