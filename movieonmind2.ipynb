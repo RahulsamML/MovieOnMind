{
 "cells": [
  {
   "cell_type": "code",
   "execution_count": 1,
   "metadata": {},
   "outputs": [],
   "source": [
    "import pandas as pd\n",
    "import numpy as np"
   ]
  },
  {
   "cell_type": "code",
   "execution_count": 4,
   "metadata": {},
   "outputs": [
    {
     "data": {
      "text/html": [
       "<div>\n",
       "<style scoped>\n",
       "    .dataframe tbody tr th:only-of-type {\n",
       "        vertical-align: middle;\n",
       "    }\n",
       "\n",
       "    .dataframe tbody tr th {\n",
       "        vertical-align: top;\n",
       "    }\n",
       "\n",
       "    .dataframe thead th {\n",
       "        text-align: right;\n",
       "    }\n",
       "</style>\n",
       "<table border=\"1\" class=\"dataframe\">\n",
       "  <thead>\n",
       "    <tr style=\"text-align: right;\">\n",
       "      <th></th>\n",
       "      <th>Title</th>\n",
       "      <th>Director</th>\n",
       "      <th>Cast</th>\n",
       "      <th>Genre</th>\n",
       "      <th>year</th>\n",
       "    </tr>\n",
       "  </thead>\n",
       "  <tbody>\n",
       "    <tr>\n",
       "      <th>0</th>\n",
       "      <td>Balika Badhu a.k.a. Baby Bride</td>\n",
       "      <td>P. T. Shaida (Tulsidutt Shaida)</td>\n",
       "      <td>Miss Ali, Tarak Bagcha, Pandit Tulsidutt Shaida</td>\n",
       "      <td>Social</td>\n",
       "      <td>1920</td>\n",
       "    </tr>\n",
       "    <tr>\n",
       "      <th>1</th>\n",
       "      <td>Daksha Yagna a.k.a. Sati Parvati</td>\n",
       "      <td>Vishnupant Divekar</td>\n",
       "      <td>Khalil, Prabha, Vaidya</td>\n",
       "      <td>Mythology</td>\n",
       "      <td>1920</td>\n",
       "    </tr>\n",
       "    <tr>\n",
       "      <th>2</th>\n",
       "      <td>Jalandhar Vrinda a.k.a. Sati Tulsi Vrinda</td>\n",
       "      <td>G. V. Sane</td>\n",
       "      <td>NaN</td>\n",
       "      <td>Mythology</td>\n",
       "      <td>1920</td>\n",
       "    </tr>\n",
       "    <tr>\n",
       "      <th>3</th>\n",
       "      <td>Kansa Vadha a.k.a. End Of The Tyrant King</td>\n",
       "      <td>G. V. Sane</td>\n",
       "      <td>NaN</td>\n",
       "      <td>Mythology</td>\n",
       "      <td>1920</td>\n",
       "    </tr>\n",
       "    <tr>\n",
       "      <th>4</th>\n",
       "      <td>Katorabhar Khoon a.k.a.The Stinger Stung a.k.a...</td>\n",
       "      <td>S. N. Patankar</td>\n",
       "      <td>Trymbakrao Pradhan, Tara Koregaonkar, Baba Vya...</td>\n",
       "      <td>Social</td>\n",
       "      <td>1920</td>\n",
       "    </tr>\n",
       "    <tr>\n",
       "      <th>...</th>\n",
       "      <td>...</td>\n",
       "      <td>...</td>\n",
       "      <td>...</td>\n",
       "      <td>...</td>\n",
       "      <td>...</td>\n",
       "    </tr>\n",
       "    <tr>\n",
       "      <th>9706</th>\n",
       "      <td>Comedy Couple</td>\n",
       "      <td>Nachiket Sawant</td>\n",
       "      <td>Saqib SaleemShweta Basu Prasad</td>\n",
       "      <td>NaN</td>\n",
       "      <td>2020</td>\n",
       "    </tr>\n",
       "    <tr>\n",
       "      <th>9707</th>\n",
       "      <td>Taish</td>\n",
       "      <td>Bejoy Nambiar</td>\n",
       "      <td>Pulkit SamratKriti KharbandaJim SarbhHarshvard...</td>\n",
       "      <td>NaN</td>\n",
       "      <td>2020</td>\n",
       "    </tr>\n",
       "    <tr>\n",
       "      <th>9708</th>\n",
       "      <td>Laxmmi Bomb</td>\n",
       "      <td>Raghava Lawrence</td>\n",
       "      <td>Akshay KumarKiara Advani</td>\n",
       "      <td>NaN</td>\n",
       "      <td>2020</td>\n",
       "    </tr>\n",
       "    <tr>\n",
       "      <th>9709</th>\n",
       "      <td>Brahmāstra</td>\n",
       "      <td>Ayan Mukerji</td>\n",
       "      <td>Amitabh BachchanRanbir KapoorAlia BhattMouni R...</td>\n",
       "      <td>NaN</td>\n",
       "      <td>2020</td>\n",
       "    </tr>\n",
       "    <tr>\n",
       "      <th>9710</th>\n",
       "      <td>NaN</td>\n",
       "      <td>NaN</td>\n",
       "      <td>NaN</td>\n",
       "      <td>NaN</td>\n",
       "      <td>2020</td>\n",
       "    </tr>\n",
       "  </tbody>\n",
       "</table>\n",
       "<p>9711 rows × 5 columns</p>\n",
       "</div>"
      ],
      "text/plain": [
       "                                                  Title  \\\n",
       "0                        Balika Badhu a.k.a. Baby Bride   \n",
       "1                      Daksha Yagna a.k.a. Sati Parvati   \n",
       "2             Jalandhar Vrinda a.k.a. Sati Tulsi Vrinda   \n",
       "3             Kansa Vadha a.k.a. End Of The Tyrant King   \n",
       "4     Katorabhar Khoon a.k.a.The Stinger Stung a.k.a...   \n",
       "...                                                 ...   \n",
       "9706                                      Comedy Couple   \n",
       "9707                                              Taish   \n",
       "9708                                        Laxmmi Bomb   \n",
       "9709                                         Brahmāstra   \n",
       "9710                                                NaN   \n",
       "\n",
       "                             Director  \\\n",
       "0     P. T. Shaida (Tulsidutt Shaida)   \n",
       "1                  Vishnupant Divekar   \n",
       "2                          G. V. Sane   \n",
       "3                          G. V. Sane   \n",
       "4                      S. N. Patankar   \n",
       "...                               ...   \n",
       "9706                  Nachiket Sawant   \n",
       "9707                    Bejoy Nambiar   \n",
       "9708                 Raghava Lawrence   \n",
       "9709                     Ayan Mukerji   \n",
       "9710                              NaN   \n",
       "\n",
       "                                                   Cast      Genre  year  \n",
       "0       Miss Ali, Tarak Bagcha, Pandit Tulsidutt Shaida     Social  1920  \n",
       "1                                Khalil, Prabha, Vaidya  Mythology  1920  \n",
       "2                                                   NaN  Mythology  1920  \n",
       "3                                                   NaN  Mythology  1920  \n",
       "4     Trymbakrao Pradhan, Tara Koregaonkar, Baba Vya...     Social  1920  \n",
       "...                                                 ...        ...   ...  \n",
       "9706                     Saqib SaleemShweta Basu Prasad        NaN  2020  \n",
       "9707  Pulkit SamratKriti KharbandaJim SarbhHarshvard...        NaN  2020  \n",
       "9708                           Akshay KumarKiara Advani        NaN  2020  \n",
       "9709  Amitabh BachchanRanbir KapoorAlia BhattMouni R...        NaN  2020  \n",
       "9710                                                NaN        NaN  2020  \n",
       "\n",
       "[9711 rows x 5 columns]"
      ]
     },
     "execution_count": 4,
     "metadata": {},
     "output_type": "execute_result"
    }
   ],
   "source": [
    "data=pd.read_csv('rawmoviefile.csv',)\n",
    "a=data.loc[:,['Title', 'Director', 'Cast', 'Genre', 'year']]\n",
    "a"
   ]
  },
  {
   "cell_type": "code",
   "execution_count": 107,
   "metadata": {},
   "outputs": [],
   "source": [
    "a.dropna(subset=['Title'],inplace=True)"
   ]
  },
  {
   "cell_type": "code",
   "execution_count": 110,
   "metadata": {},
   "outputs": [
    {
     "data": {
      "text/plain": [
       "(8100, 5)"
      ]
     },
     "execution_count": 110,
     "metadata": {},
     "output_type": "execute_result"
    }
   ],
   "source": [
    "a.shape"
   ]
  },
  {
   "cell_type": "code",
   "execution_count": 111,
   "metadata": {},
   "outputs": [
    {
     "data": {
      "text/plain": [
       "Title          0\n",
       "Director     739\n",
       "Cast         497\n",
       "Genre       1741\n",
       "year           0\n",
       "dtype: int64"
      ]
     },
     "execution_count": 111,
     "metadata": {},
     "output_type": "execute_result"
    }
   ],
   "source": [
    "a.isnull().sum(axis = 0)"
   ]
  },
  {
   "cell_type": "code",
   "execution_count": 113,
   "metadata": {},
   "outputs": [],
   "source": [
    "a.reset_index(drop=True, inplace=True)"
   ]
  },
  {
   "cell_type": "code",
   "execution_count": 114,
   "metadata": {},
   "outputs": [
    {
     "data": {
      "text/html": [
       "<div>\n",
       "<style scoped>\n",
       "    .dataframe tbody tr th:only-of-type {\n",
       "        vertical-align: middle;\n",
       "    }\n",
       "\n",
       "    .dataframe tbody tr th {\n",
       "        vertical-align: top;\n",
       "    }\n",
       "\n",
       "    .dataframe thead th {\n",
       "        text-align: right;\n",
       "    }\n",
       "</style>\n",
       "<table border=\"1\" class=\"dataframe\">\n",
       "  <thead>\n",
       "    <tr style=\"text-align: right;\">\n",
       "      <th></th>\n",
       "      <th>Title</th>\n",
       "      <th>Director</th>\n",
       "      <th>Cast</th>\n",
       "      <th>Genre</th>\n",
       "      <th>year</th>\n",
       "    </tr>\n",
       "  </thead>\n",
       "  <tbody>\n",
       "    <tr>\n",
       "      <th>0</th>\n",
       "      <td>Balika Badhu a.k.a. Baby Bride</td>\n",
       "      <td>P. T. Shaida (Tulsidutt Shaida)</td>\n",
       "      <td>Miss Ali, Tarak Bagcha, Pandit Tulsidutt Shaida</td>\n",
       "      <td>Social</td>\n",
       "      <td>1920</td>\n",
       "    </tr>\n",
       "    <tr>\n",
       "      <th>1</th>\n",
       "      <td>Daksha Yagna a.k.a. Sati Parvati</td>\n",
       "      <td>Vishnupant Divekar</td>\n",
       "      <td>Khalil, Prabha, Vaidya</td>\n",
       "      <td>Mythology</td>\n",
       "      <td>1920</td>\n",
       "    </tr>\n",
       "    <tr>\n",
       "      <th>2</th>\n",
       "      <td>Jalandhar Vrinda a.k.a. Sati Tulsi Vrinda</td>\n",
       "      <td>G. V. Sane</td>\n",
       "      <td>NaN</td>\n",
       "      <td>Mythology</td>\n",
       "      <td>1920</td>\n",
       "    </tr>\n",
       "    <tr>\n",
       "      <th>3</th>\n",
       "      <td>Kansa Vadha a.k.a. End Of The Tyrant King</td>\n",
       "      <td>G. V. Sane</td>\n",
       "      <td>NaN</td>\n",
       "      <td>Mythology</td>\n",
       "      <td>1920</td>\n",
       "    </tr>\n",
       "    <tr>\n",
       "      <th>4</th>\n",
       "      <td>Katorabhar Khoon a.k.a.The Stinger Stung a.k.a...</td>\n",
       "      <td>S. N. Patankar</td>\n",
       "      <td>Trymbakrao Pradhan, Tara Koregaonkar, Baba Vya...</td>\n",
       "      <td>Social</td>\n",
       "      <td>1920</td>\n",
       "    </tr>\n",
       "    <tr>\n",
       "      <th>...</th>\n",
       "      <td>...</td>\n",
       "      <td>...</td>\n",
       "      <td>...</td>\n",
       "      <td>...</td>\n",
       "      <td>...</td>\n",
       "    </tr>\n",
       "    <tr>\n",
       "      <th>8095</th>\n",
       "      <td>Ginny Weds Sunny</td>\n",
       "      <td>Puneet Khanna</td>\n",
       "      <td>Yami GautamVikrant Massey</td>\n",
       "      <td>NaN</td>\n",
       "      <td>2020</td>\n",
       "    </tr>\n",
       "    <tr>\n",
       "      <th>8096</th>\n",
       "      <td>Comedy Couple</td>\n",
       "      <td>Nachiket Sawant</td>\n",
       "      <td>Saqib SaleemShweta Basu Prasad</td>\n",
       "      <td>NaN</td>\n",
       "      <td>2020</td>\n",
       "    </tr>\n",
       "    <tr>\n",
       "      <th>8097</th>\n",
       "      <td>Taish</td>\n",
       "      <td>Bejoy Nambiar</td>\n",
       "      <td>Pulkit SamratKriti KharbandaJim SarbhHarshvard...</td>\n",
       "      <td>NaN</td>\n",
       "      <td>2020</td>\n",
       "    </tr>\n",
       "    <tr>\n",
       "      <th>8098</th>\n",
       "      <td>Laxmmi Bomb</td>\n",
       "      <td>Raghava Lawrence</td>\n",
       "      <td>Akshay KumarKiara Advani</td>\n",
       "      <td>NaN</td>\n",
       "      <td>2020</td>\n",
       "    </tr>\n",
       "    <tr>\n",
       "      <th>8099</th>\n",
       "      <td>Brahmāstra</td>\n",
       "      <td>Ayan Mukerji</td>\n",
       "      <td>Amitabh BachchanRanbir KapoorAlia BhattMouni R...</td>\n",
       "      <td>NaN</td>\n",
       "      <td>2020</td>\n",
       "    </tr>\n",
       "  </tbody>\n",
       "</table>\n",
       "<p>8100 rows × 5 columns</p>\n",
       "</div>"
      ],
      "text/plain": [
       "                                                  Title  \\\n",
       "0                        Balika Badhu a.k.a. Baby Bride   \n",
       "1                      Daksha Yagna a.k.a. Sati Parvati   \n",
       "2             Jalandhar Vrinda a.k.a. Sati Tulsi Vrinda   \n",
       "3             Kansa Vadha a.k.a. End Of The Tyrant King   \n",
       "4     Katorabhar Khoon a.k.a.The Stinger Stung a.k.a...   \n",
       "...                                                 ...   \n",
       "8095                                   Ginny Weds Sunny   \n",
       "8096                                      Comedy Couple   \n",
       "8097                                              Taish   \n",
       "8098                                        Laxmmi Bomb   \n",
       "8099                                         Brahmāstra   \n",
       "\n",
       "                             Director  \\\n",
       "0     P. T. Shaida (Tulsidutt Shaida)   \n",
       "1                  Vishnupant Divekar   \n",
       "2                          G. V. Sane   \n",
       "3                          G. V. Sane   \n",
       "4                      S. N. Patankar   \n",
       "...                               ...   \n",
       "8095                    Puneet Khanna   \n",
       "8096                  Nachiket Sawant   \n",
       "8097                    Bejoy Nambiar   \n",
       "8098                 Raghava Lawrence   \n",
       "8099                     Ayan Mukerji   \n",
       "\n",
       "                                                   Cast      Genre  year  \n",
       "0       Miss Ali, Tarak Bagcha, Pandit Tulsidutt Shaida     Social  1920  \n",
       "1                                Khalil, Prabha, Vaidya  Mythology  1920  \n",
       "2                                                   NaN  Mythology  1920  \n",
       "3                                                   NaN  Mythology  1920  \n",
       "4     Trymbakrao Pradhan, Tara Koregaonkar, Baba Vya...     Social  1920  \n",
       "...                                                 ...        ...   ...  \n",
       "8095                          Yami GautamVikrant Massey        NaN  2020  \n",
       "8096                     Saqib SaleemShweta Basu Prasad        NaN  2020  \n",
       "8097  Pulkit SamratKriti KharbandaJim SarbhHarshvard...        NaN  2020  \n",
       "8098                           Akshay KumarKiara Advani        NaN  2020  \n",
       "8099  Amitabh BachchanRanbir KapoorAlia BhattMouni R...        NaN  2020  \n",
       "\n",
       "[8100 rows x 5 columns]"
      ]
     },
     "execution_count": 114,
     "metadata": {},
     "output_type": "execute_result"
    }
   ],
   "source": [
    "a"
   ]
  },
  {
   "cell_type": "code",
   "execution_count": 120,
   "metadata": {},
   "outputs": [
    {
     "data": {
      "text/plain": [
       "85"
      ]
     },
     "execution_count": 120,
     "metadata": {},
     "output_type": "execute_result"
    }
   ],
   "source": [
    "a['year'].nunique()"
   ]
  },
  {
   "cell_type": "code",
   "execution_count": 124,
   "metadata": {},
   "outputs": [],
   "source": [
    "s=a['year'].value_counts()"
   ]
  },
  {
   "cell_type": "code",
   "execution_count": 147,
   "metadata": {},
   "outputs": [
    {
     "name": "stdout",
     "output_type": "stream",
     "text": [
      "[1955, 1964, 1967, 1970, 1993, 1994, 1998, 1999, 2001, 2002, 2003, 2004, 2005, 2007, 2012, 2013]\n"
     ]
    }
   ],
   "source": [
    "s1=[i for i in a.year]\n",
    "s2=[j for j in range(1920,2021)]\n",
    "s3=[]\n",
    "for k in s2:\n",
    "    if k not in set(s1):\n",
    "        s3.append(k)\n",
    "print(s3)\n",
    "        "
   ]
  },
  {
   "cell_type": "code",
   "execution_count": 135,
   "metadata": {},
   "outputs": [
    {
     "data": {
      "text/plain": [
       "[]"
      ]
     },
     "execution_count": 135,
     "metadata": {},
     "output_type": "execute_result"
    }
   ],
   "source": [
    "s3"
   ]
  },
  {
   "cell_type": "code",
   "execution_count": null,
   "metadata": {},
   "outputs": [],
   "source": []
  }
 ],
 "metadata": {
  "kernelspec": {
   "display_name": "Python 3",
   "language": "python",
   "name": "python3"
  },
  "language_info": {
   "codemirror_mode": {
    "name": "ipython",
    "version": 3
   },
   "file_extension": ".py",
   "mimetype": "text/x-python",
   "name": "python",
   "nbconvert_exporter": "python",
   "pygments_lexer": "ipython3",
   "version": "3.7.3"
  }
 },
 "nbformat": 4,
 "nbformat_minor": 4
}
