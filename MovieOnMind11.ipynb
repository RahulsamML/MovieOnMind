{
  "nbformat": 4,
  "nbformat_minor": 0,
  "metadata": {
    "colab": {
      "name": "MovieOnMind.ipynb",
      "provenance": [],
      "collapsed_sections": []
    },
    "kernelspec": {
      "name": "python3",
      "display_name": "Python 3"
    }
  },
  "cells": [
    {
      "cell_type": "code",
      "metadata": {
        "id": "SDSV_o6g9fmy"
      },
      "source": [
        "import pandas as pd\n",
        "import numpy as np"
      ],
      "execution_count": 128,
      "outputs": []
    },
    {
      "cell_type": "code",
      "metadata": {
        "id": "k1UJOF_6Rq1g"
      },
      "source": [
        "def datamaker(link,start,end):\n",
        "    data=pd.DataFrame()\n",
        "    link=link[:-4]\n",
        "    for j in range(start,end+1):\n",
        "        link1=link+str(j)\n",
        "        dataset=pd.read_html(link1, header=0,attrs = {'class':\"wikitable\"})\n",
        "        b=pd.DataFrame()\n",
        "        for i in range(len(dataset)):\n",
        "            a=pd.DataFrame(dataset[i])\n",
        "            if len(pd.DataFrame.count(a,axis=0))>4:\n",
        "                b=b.append(a,ignore_index=True)\n",
        "        b['year']=[str(j)]*b.shape[0]\n",
        "        data=data.append(b,ignore_index=True)\n",
        "    return data"
      ],
      "execution_count": 129,
      "outputs": []
    },
    {
      "cell_type": "code",
      "metadata": {
        "id": "BQk186dYSrcv"
      },
      "source": [
        "link='https://en.wikipedia.org/wiki/List_of_Bollywood_films_of_2018'\n",
        "start,end=1920,2020\n",
        "moviedataset=pd.DataFrame()\n",
        "moviedataset=moviedataset.append(datamaker(link,start,end),ignore_index=True)\n",
        "moviedataset.shape"
      ],
      "execution_count": null,
      "outputs": []
    },
    {
      "cell_type": "code",
      "metadata": {
        "id": "5icj1Rt7hN4J"
      },
      "source": [
        "data = moviedataset.loc[:,['Title', 'Director', 'Cast', 'Genre', 'year']]"
      ],
      "execution_count": 131,
      "outputs": []
    },
    {
      "cell_type": "code",
      "metadata": {
        "id": "nRYwvHvH36eJ",
        "outputId": "fb30a766-a3d9-4341-d825-e45b638c4148",
        "colab": {
          "base_uri": "https://localhost:8080/",
          "height": 119
        }
      },
      "source": [
        "pd.DataFrame.count(data)"
      ],
      "execution_count": 132,
      "outputs": [
        {
          "output_type": "execute_result",
          "data": {
            "text/plain": [
              "Title       8100\n",
              "Director    7381\n",
              "Cast        7623\n",
              "Genre       6377\n",
              "year        8155\n",
              "dtype: int64"
            ]
          },
          "metadata": {
            "tags": []
          },
          "execution_count": 132
        }
      ]
    },
    {
      "cell_type": "code",
      "metadata": {
        "id": "6D0m_i025gS_",
        "outputId": "b6d481c2-a6ef-4d7e-9a84-4387f2d84acd",
        "colab": {
          "base_uri": "https://localhost:8080/",
          "height": 119
        }
      },
      "source": [
        "data.isnull().sum(axis = 0)"
      ],
      "execution_count": 133,
      "outputs": [
        {
          "output_type": "execute_result",
          "data": {
            "text/plain": [
              "Title         55\n",
              "Director     774\n",
              "Cast         532\n",
              "Genre       1778\n",
              "year           0\n",
              "dtype: int64"
            ]
          },
          "metadata": {
            "tags": []
          },
          "execution_count": 133
        }
      ]
    },
    {
      "cell_type": "code",
      "metadata": {
        "id": "RDzyJdQH7sAa"
      },
      "source": [
        "data.to_csv('rawmoviefile.csv') "
      ],
      "execution_count": 134,
      "outputs": []
    }
  ]
}